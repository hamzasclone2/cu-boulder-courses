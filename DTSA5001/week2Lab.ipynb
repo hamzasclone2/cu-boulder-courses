{
 "cells": [
  {
   "cell_type": "markdown",
   "metadata": {},
   "source": [
    "Simulation is a great tool for probability problems even when you are trying to compute exact results since it can help you to check your work!"
   ]
  },
  {
   "cell_type": "markdown",
   "metadata": {},
   "source": [
    "# Problem 1"
   ]
  },
  {
   "cell_type": "markdown",
   "metadata": {},
   "source": [
    "Suppose you roll a fair six-sided die two times. Let $A$ be the event \"the sum of the throws equals 5\" and $B$ be the event \"at least one of the throws is a $4$\"."
   ]
  },
  {
   "cell_type": "markdown",
   "metadata": {},
   "source": [
    "**Part a)** \n",
    "\n",
    "By hand, solve for the probability that the sum of the throws equals 5, given that at least one of the throws is a 4. That is, solve $P(A|B)$."
   ]
  },
  {
   "cell_type": "markdown",
   "metadata": {},
   "source": [
    "**Part b)**\n",
    "\n",
    "In the next cell, write a simple simulation to confirm your result. Make sure you run your simulation enough times to be confident in your result. We will get you started but <b>feel free to delete the provided code to use your own approach</b>.\n",
    "\n",
    "Hint: Think about the definition of conditional probability. "
   ]
  },
  {
   "cell_type": "code",
   "execution_count": 51,
   "metadata": {},
   "outputs": [
    {
     "data": {
      "text/html": [
       "0.051"
      ],
      "text/latex": [
       "0.051"
      ],
      "text/markdown": [
       "0.051"
      ],
      "text/plain": [
       "[1] 0.051"
      ]
     },
     "metadata": {},
     "output_type": "display_data"
    }
   ],
   "source": [
    "# Your code here\n",
    "\n",
    "# Simulate values\n",
    "roll1 = sample(1:6,1000,replace=TRUE)\n",
    "roll2 = sample(1:6,1000,replace=TRUE)\n",
    "\n",
    "# Put the two columns together (\"cbind\" stands for \"column bind\")\n",
    "mydata = cbind(roll1,roll2)\n",
    "\n",
    "# Change from a matrix to a data frame so that we can access elements \n",
    "# using the names \"roll1\" and \"roll2\"\n",
    "mydata = as.data.frame(mydata)\n",
    "\n",
    "# Here is a subset of the data frame that you might want to look at.\n",
    "# Recall that the squre brackets can be read as \"such that\".\n",
    "pa = mydata[mydata$roll1+mydata$roll2==5,]\n",
    "\n",
    "num = nrow(pa[pa$roll1==4 | pa$roll2==4,])\n",
    "\n",
    "num/1000"
   ]
  },
  {
   "cell_type": "markdown",
   "metadata": {},
   "source": [
    "<hr>"
   ]
  },
  {
   "cell_type": "markdown",
   "metadata": {},
   "source": [
    "# Problem 2\n",
    "\n",
    "Suppose you have two bags of marbles that are in a box. Bag 1 contains 7 white marbles, 6 black marbles, and 3 gold marbles. Bag 2 contains 4 white marbles, 5 black marbles, and 15 gold marbles. You will reach into the box to pull out a bag. Suppose that, due to the size and shapes of the bags, the probability of grabbing Bag 1 from the box is twice the probability of grabbing Bag 2.\n",
    "\n",
    "If you close your eyes, grab a bag from the box, and then grab a marble from that bag, what is the probability that it is gold?"
   ]
  },
  {
   "cell_type": "markdown",
   "metadata": {},
   "source": [
    "**Part a)** \n",
    "\n",
    "Solve this problem by hand. This should give us a theoretical value for pulling a gold marble."
   ]
  },
  {
   "cell_type": "markdown",
   "metadata": {},
   "source": [
    "**Part b)**\n",
    "\n",
    "Create a simulation to estimate the probability of pulling a gold marble. Make sure to run the simulation enough times to be confident in your final result!\n",
    "\n",
    "Hint: You can sample one marble from Bag 1 with this line of code\n",
    "\n",
    "<code>sample(c(\"white\",\"black\",\"gold\"),1,prob=c(7/16,6/16,3/16))</code>\n",
    "\n",
    "though you mind find it easier to label white marbles as \"1\", black marbles as \"2\", and gold marbles as \"3\" rather than having to work with strings."
   ]
  },
  {
   "cell_type": "code",
   "execution_count": 47,
   "metadata": {},
   "outputs": [
    {
     "data": {
      "text/html": [
       "0.345666666666667"
      ],
      "text/latex": [
       "0.345666666666667"
      ],
      "text/markdown": [
       "0.345666666666667"
      ],
      "text/plain": [
       "[1] 0.3456667"
      ]
     },
     "metadata": {},
     "output_type": "display_data"
    }
   ],
   "source": [
    "# Your code here\n",
    "\n",
    "bag1 = sample(c(\"white\",\"black\",\"gold\"),1000,prob=c(7/16,6/16,3/16), replace=TRUE)\n",
    "bag2 = sample(c(\"white\", \"black\", \"gold\"),1000,prob=c(4/24, 5/24,15/24), replace=TRUE)\n",
    "\n",
    "mydata = cbind(bag1, bag2)\n",
    "mydata = as.data.frame(mydata)\n",
    "\n",
    "bag1 = as.data.frame(bag1)\n",
    "\n",
    "(2/3) * (sum(bag1 == \"gold\")/1000) + (1/3) * (sum(bag2 == \"gold\")/1000)"
   ]
  },
  {
   "cell_type": "code",
   "execution_count": null,
   "metadata": {},
   "outputs": [],
   "source": []
  }
 ],
 "metadata": {
  "kernelspec": {
   "display_name": "R",
   "language": "R",
   "name": "ir"
  }
 },
 "nbformat": 4,
 "nbformat_minor": 4
}
