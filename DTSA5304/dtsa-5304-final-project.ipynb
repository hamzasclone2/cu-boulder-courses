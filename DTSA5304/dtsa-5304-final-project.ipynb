{
 "cells": [
  {
   "cell_type": "code",
   "execution_count": 1,
   "id": "3e8797c1",
   "metadata": {
    "_cell_guid": "b1076dfc-b9ad-4769-8c92-a6c4dae69d19",
    "_uuid": "8f2839f25d086af736a60e9eeb907d3b93b6e0e5",
    "execution": {
     "iopub.execute_input": "2022-12-05T02:54:48.180530Z",
     "iopub.status.busy": "2022-12-05T02:54:48.179684Z",
     "iopub.status.idle": "2022-12-05T02:54:52.300135Z",
     "shell.execute_reply": "2022-12-05T02:54:52.298737Z"
    },
    "papermill": {
     "duration": 4.127604,
     "end_time": "2022-12-05T02:54:52.303159",
     "exception": false,
     "start_time": "2022-12-05T02:54:48.175555",
     "status": "completed"
    },
    "tags": []
   },
   "outputs": [],
   "source": [
    "import pandas as pd \n",
    "import altair as alt\n",
    "\n",
    "alt.data_transformers.disable_max_rows()\n",
    "\n",
    "data = pd.read_csv(\"../input/marvel-comic-books/Marvel_Comics.csv\", parse_dates=['publish_date'], na_values='None')\n",
    "df = pd.DataFrame(data)"
   ]
  },
  {
   "cell_type": "code",
   "execution_count": 2,
   "id": "63879923",
   "metadata": {
    "execution": {
     "iopub.execute_input": "2022-12-05T02:54:52.309197Z",
     "iopub.status.busy": "2022-12-05T02:54:52.308855Z",
     "iopub.status.idle": "2022-12-05T02:54:52.442149Z",
     "shell.execute_reply": "2022-12-05T02:54:52.440597Z"
    },
    "papermill": {
     "duration": 0.139282,
     "end_time": "2022-12-05T02:54:52.444860",
     "exception": false,
     "start_time": "2022-12-05T02:54:52.305578",
     "status": "completed"
    },
    "tags": []
   },
   "outputs": [
    {
     "data": {
      "text/html": [
       "\n",
       "<div id=\"altair-viz-c72e7baa4de64ee4a75c245ab13803d1\"></div>\n",
       "<script type=\"text/javascript\">\n",
       "  var VEGA_DEBUG = (typeof VEGA_DEBUG == \"undefined\") ? {} : VEGA_DEBUG;\n",
       "  (function(spec, embedOpt){\n",
       "    let outputDiv = document.currentScript.previousElementSibling;\n",
       "    if (outputDiv.id !== \"altair-viz-c72e7baa4de64ee4a75c245ab13803d1\") {\n",
       "      outputDiv = document.getElementById(\"altair-viz-c72e7baa4de64ee4a75c245ab13803d1\");\n",
       "    }\n",
       "    const paths = {\n",
       "      \"vega\": \"https://cdn.jsdelivr.net/npm//vega@5?noext\",\n",
       "      \"vega-lib\": \"https://cdn.jsdelivr.net/npm//vega-lib?noext\",\n",
       "      \"vega-lite\": \"https://cdn.jsdelivr.net/npm//vega-lite@4.17.0?noext\",\n",
       "      \"vega-embed\": \"https://cdn.jsdelivr.net/npm//vega-embed@6?noext\",\n",
       "    };\n",
       "\n",
       "    function maybeLoadScript(lib, version) {\n",
       "      var key = `${lib.replace(\"-\", \"\")}_version`;\n",
       "      return (VEGA_DEBUG[key] == version) ?\n",
       "        Promise.resolve(paths[lib]) :\n",
       "        new Promise(function(resolve, reject) {\n",
       "          var s = document.createElement('script');\n",
       "          document.getElementsByTagName(\"head\")[0].appendChild(s);\n",
       "          s.async = true;\n",
       "          s.onload = () => {\n",
       "            VEGA_DEBUG[key] = version;\n",
       "            return resolve(paths[lib]);\n",
       "          };\n",
       "          s.onerror = () => reject(`Error loading script: ${paths[lib]}`);\n",
       "          s.src = paths[lib];\n",
       "        });\n",
       "    }\n",
       "\n",
       "    function showError(err) {\n",
       "      outputDiv.innerHTML = `<div class=\"error\" style=\"color:red;\">${err}</div>`;\n",
       "      throw err;\n",
       "    }\n",
       "\n",
       "    function displayChart(vegaEmbed) {\n",
       "      vegaEmbed(outputDiv, spec, embedOpt)\n",
       "        .catch(err => showError(`Javascript Error: ${err.message}<br>This usually means there's a typo in your chart specification. See the javascript console for the full traceback.`));\n",
       "    }\n",
       "\n",
       "    if(typeof define === \"function\" && define.amd) {\n",
       "      requirejs.config({paths});\n",
       "      require([\"vega-embed\"], displayChart, err => showError(`Error loading script: ${err.message}`));\n",
       "    } else {\n",
       "      maybeLoadScript(\"vega\", \"5\")\n",
       "        .then(() => maybeLoadScript(\"vega-lite\", \"4.17.0\"))\n",
       "        .then(() => maybeLoadScript(\"vega-embed\", \"6\"))\n",
       "        .catch(showError)\n",
       "        .then(() => displayChart(vegaEmbed));\n",
       "    }\n",
       "  })({\"config\": {\"view\": {\"continuousWidth\": 400, \"continuousHeight\": 300}}, \"data\": {\"name\": \"data-0c9135b64eb32abc07becd52cd766acf\"}, \"mark\": \"bar\", \"encoding\": {\"opacity\": {\"condition\": {\"value\": 1, \"selection\": \"selector001\"}, \"value\": 0.2}, \"tooltip\": [{\"field\": \"Writer\", \"type\": \"nominal\"}, {\"field\": \"Total Issues\", \"type\": \"quantitative\"}], \"x\": {\"field\": \"Total Issues\", \"title\": \"Total Issues Written\", \"type\": \"quantitative\"}, \"y\": {\"field\": \"Writer\", \"sort\": \"-x\", \"type\": \"nominal\"}}, \"height\": 500, \"selection\": {\"selector001\": {\"type\": \"single\"}}, \"title\": \"Top 20 Marvel Writers (1939-2022)\", \"width\": 1000, \"$schema\": \"https://vega.github.io/schema/vega-lite/v4.17.0.json\", \"datasets\": {\"data-0c9135b64eb32abc07becd52cd766acf\": [{\"Writer\": \"Brian Michael Bendis\", \"Total Issues\": 859}, {\"Writer\": \"Chris Claremont\", \"Total Issues\": 685}, {\"Writer\": \"Stan Lee\", \"Total Issues\": 638}, {\"Writer\": \"Peter David\", \"Total Issues\": 609}, {\"Writer\": \"Roy Thomas\", \"Total Issues\": 401}, {\"Writer\": \"Jason Aaron\", \"Total Issues\": 362}, {\"Writer\": \"Fabian Nicieza\", \"Total Issues\": 332}, {\"Writer\": \"Mark Waid\", \"Total Issues\": 280}, {\"Writer\": \"Tom Defalco\", \"Total Issues\": 279}, {\"Writer\": \"Bill Mantlo\", \"Total Issues\": 272}, {\"Writer\": \"John Byrne\", \"Total Issues\": 268}, {\"Writer\": \"Mark Gruenwald\", \"Total Issues\": 263}, {\"Writer\": \"Doug Moench\", \"Total Issues\": 250}, {\"Writer\": \"Cullen Bunn\", \"Total Issues\": 250}, {\"Writer\": \"Matt Fraction\", \"Total Issues\": 245}, {\"Writer\": \"Gerry Conway\", \"Total Issues\": 240}, {\"Writer\": \"Steve Englehart\", \"Total Issues\": 235}, {\"Writer\": \"Jonathan Hickman\", \"Total Issues\": 220}, {\"Writer\": \"Charles Soule\", \"Total Issues\": 217}, {\"Writer\": \"Ed Brubaker\", \"Total Issues\": 215}]}}, {\"mode\": \"vega-lite\"});\n",
       "</script>"
      ],
      "text/plain": [
       "alt.Chart(...)"
      ]
     },
     "execution_count": 2,
     "metadata": {},
     "output_type": "execute_result"
    }
   ],
   "source": [
    "selection = alt.selection(type='single')\n",
    "\n",
    "writers = pd.DataFrame(df['writer'].value_counts().head(20))\n",
    "writers.reset_index(inplace=True)\n",
    "writers.columns = ['Writer', 'Total Issues']\n",
    "\n",
    "alt.Chart(writers).mark_bar().encode(\n",
    "    alt.X('Total Issues', title='Total Issues Written'),\n",
    "    alt.Y('Writer', sort='-x'),\n",
    "    tooltip = ['Writer','Total Issues'],\n",
    "    opacity=alt.condition(selection,alt.value(1),alt.value(.2))\n",
    ").properties(\n",
    "    title='Top 20 Marvel Writers (1939-2022)',\n",
    "    width=1000,\n",
    "    height=500\n",
    ").add_selection(selection)"
   ]
  },
  {
   "cell_type": "code",
   "execution_count": 3,
   "id": "f12f5c0e",
   "metadata": {
    "execution": {
     "iopub.execute_input": "2022-12-05T02:54:52.451811Z",
     "iopub.status.busy": "2022-12-05T02:54:52.451466Z",
     "iopub.status.idle": "2022-12-05T02:54:52.542540Z",
     "shell.execute_reply": "2022-12-05T02:54:52.541251Z"
    },
    "papermill": {
     "duration": 0.097088,
     "end_time": "2022-12-05T02:54:52.544705",
     "exception": false,
     "start_time": "2022-12-05T02:54:52.447617",
     "status": "completed"
    },
    "tags": []
   },
   "outputs": [
    {
     "data": {
      "text/html": [
       "\n",
       "<div id=\"altair-viz-401aa4aff13041b894e63e89b89ed1f5\"></div>\n",
       "<script type=\"text/javascript\">\n",
       "  var VEGA_DEBUG = (typeof VEGA_DEBUG == \"undefined\") ? {} : VEGA_DEBUG;\n",
       "  (function(spec, embedOpt){\n",
       "    let outputDiv = document.currentScript.previousElementSibling;\n",
       "    if (outputDiv.id !== \"altair-viz-401aa4aff13041b894e63e89b89ed1f5\") {\n",
       "      outputDiv = document.getElementById(\"altair-viz-401aa4aff13041b894e63e89b89ed1f5\");\n",
       "    }\n",
       "    const paths = {\n",
       "      \"vega\": \"https://cdn.jsdelivr.net/npm//vega@5?noext\",\n",
       "      \"vega-lib\": \"https://cdn.jsdelivr.net/npm//vega-lib?noext\",\n",
       "      \"vega-lite\": \"https://cdn.jsdelivr.net/npm//vega-lite@4.17.0?noext\",\n",
       "      \"vega-embed\": \"https://cdn.jsdelivr.net/npm//vega-embed@6?noext\",\n",
       "    };\n",
       "\n",
       "    function maybeLoadScript(lib, version) {\n",
       "      var key = `${lib.replace(\"-\", \"\")}_version`;\n",
       "      return (VEGA_DEBUG[key] == version) ?\n",
       "        Promise.resolve(paths[lib]) :\n",
       "        new Promise(function(resolve, reject) {\n",
       "          var s = document.createElement('script');\n",
       "          document.getElementsByTagName(\"head\")[0].appendChild(s);\n",
       "          s.async = true;\n",
       "          s.onload = () => {\n",
       "            VEGA_DEBUG[key] = version;\n",
       "            return resolve(paths[lib]);\n",
       "          };\n",
       "          s.onerror = () => reject(`Error loading script: ${paths[lib]}`);\n",
       "          s.src = paths[lib];\n",
       "        });\n",
       "    }\n",
       "\n",
       "    function showError(err) {\n",
       "      outputDiv.innerHTML = `<div class=\"error\" style=\"color:red;\">${err}</div>`;\n",
       "      throw err;\n",
       "    }\n",
       "\n",
       "    function displayChart(vegaEmbed) {\n",
       "      vegaEmbed(outputDiv, spec, embedOpt)\n",
       "        .catch(err => showError(`Javascript Error: ${err.message}<br>This usually means there's a typo in your chart specification. See the javascript console for the full traceback.`));\n",
       "    }\n",
       "\n",
       "    if(typeof define === \"function\" && define.amd) {\n",
       "      requirejs.config({paths});\n",
       "      require([\"vega-embed\"], displayChart, err => showError(`Error loading script: ${err.message}`));\n",
       "    } else {\n",
       "      maybeLoadScript(\"vega\", \"5\")\n",
       "        .then(() => maybeLoadScript(\"vega-lite\", \"4.17.0\"))\n",
       "        .then(() => maybeLoadScript(\"vega-embed\", \"6\"))\n",
       "        .catch(showError)\n",
       "        .then(() => displayChart(vegaEmbed));\n",
       "    }\n",
       "  })({\"config\": {\"view\": {\"continuousWidth\": 400, \"continuousHeight\": 300}}, \"data\": {\"name\": \"data-91182b5be796c6449d4817413fddb23f\"}, \"mark\": \"bar\", \"encoding\": {\"opacity\": {\"condition\": {\"value\": 1, \"selection\": \"selector001\"}, \"value\": 0.2}, \"tooltip\": [{\"field\": \"Penciler\", \"type\": \"nominal\"}, {\"field\": \"Total Issues\", \"type\": \"quantitative\"}], \"x\": {\"field\": \"Total Issues\", \"title\": \"Total Issues Penciled\", \"type\": \"quantitative\"}, \"y\": {\"field\": \"Penciler\", \"sort\": \"-x\", \"type\": \"nominal\"}}, \"height\": 500, \"selection\": {\"selector001\": {\"type\": \"single\"}}, \"title\": \"Top 20 Marvel Pencilers (1939-2022)\", \"width\": 1000, \"$schema\": \"https://vega.github.io/schema/vega-lite/v4.17.0.json\", \"datasets\": {\"data-91182b5be796c6449d4817413fddb23f\": [{\"Penciler\": \"Sal Buscema\", \"Total Issues\": 394}, {\"Penciler\": \"Jack Kirby\", \"Total Issues\": 377}, {\"Penciler\": \"John Romita\", \"Total Issues\": 339}, {\"Penciler\": \"John Byrne\", \"Total Issues\": 335}, {\"Penciler\": \"Mark Bagley\", \"Total Issues\": 334}, {\"Penciler\": \"Salvador Larroca\", \"Total Issues\": 284}, {\"Penciler\": \"John Buscema\", \"Total Issues\": 241}, {\"Penciler\": \"Gene Colan\", \"Total Issues\": 232}, {\"Penciler\": \"Herb Trimpe\", \"Total Issues\": 185}, {\"Penciler\": \"Ron Frenz\", \"Total Issues\": 179}, {\"Penciler\": \"Mike Deodato\", \"Total Issues\": 163}, {\"Penciler\": \"Stuart Immonen\", \"Total Issues\": 153}, {\"Penciler\": \"Alan Davis\", \"Total Issues\": 144}, {\"Penciler\": \"Paul Ryan\", \"Total Issues\": 137}, {\"Penciler\": \"Chris Bachalo\", \"Total Issues\": 129}, {\"Penciler\": \"Al Milgrom\", \"Total Issues\": 128}, {\"Penciler\": \"Humberto Ramos\", \"Total Issues\": 127}, {\"Penciler\": \"George Tuska\", \"Total Issues\": 126}, {\"Penciler\": \"Leinil Francis Yu\", \"Total Issues\": 122}, {\"Penciler\": \"Ron Lim\", \"Total Issues\": 121}]}}, {\"mode\": \"vega-lite\"});\n",
       "</script>"
      ],
      "text/plain": [
       "alt.Chart(...)"
      ]
     },
     "execution_count": 3,
     "metadata": {},
     "output_type": "execute_result"
    }
   ],
   "source": [
    "pencilers = pd.DataFrame(df['penciler'].value_counts().head(20))\n",
    "pencilers.reset_index(inplace=True)\n",
    "pencilers.columns = ['Penciler', 'Total Issues']\n",
    "\n",
    "alt.Chart(pencilers).mark_bar().encode(\n",
    "    alt.X('Total Issues', title='Total Issues Penciled'),\n",
    "    alt.Y('Penciler', sort='-x'),\n",
    "    tooltip = ['Penciler','Total Issues'],\n",
    "    opacity=alt.condition(selection,alt.value(1),alt.value(.2))\n",
    ").properties(\n",
    "    title='Top 20 Marvel Pencilers (1939-2022)',\n",
    "    width=1000,\n",
    "    height=500\n",
    ").add_selection(selection)"
   ]
  },
  {
   "cell_type": "code",
   "execution_count": 4,
   "id": "2e8b9188",
   "metadata": {
    "execution": {
     "iopub.execute_input": "2022-12-05T02:54:52.551481Z",
     "iopub.status.busy": "2022-12-05T02:54:52.551136Z",
     "iopub.status.idle": "2022-12-05T02:54:52.647251Z",
     "shell.execute_reply": "2022-12-05T02:54:52.646000Z"
    },
    "papermill": {
     "duration": 0.102041,
     "end_time": "2022-12-05T02:54:52.649427",
     "exception": false,
     "start_time": "2022-12-05T02:54:52.547386",
     "status": "completed"
    },
    "tags": []
   },
   "outputs": [
    {
     "data": {
      "text/html": [
       "\n",
       "<div id=\"altair-viz-0373f4732894497cbb92f08ff424a8a2\"></div>\n",
       "<script type=\"text/javascript\">\n",
       "  var VEGA_DEBUG = (typeof VEGA_DEBUG == \"undefined\") ? {} : VEGA_DEBUG;\n",
       "  (function(spec, embedOpt){\n",
       "    let outputDiv = document.currentScript.previousElementSibling;\n",
       "    if (outputDiv.id !== \"altair-viz-0373f4732894497cbb92f08ff424a8a2\") {\n",
       "      outputDiv = document.getElementById(\"altair-viz-0373f4732894497cbb92f08ff424a8a2\");\n",
       "    }\n",
       "    const paths = {\n",
       "      \"vega\": \"https://cdn.jsdelivr.net/npm//vega@5?noext\",\n",
       "      \"vega-lib\": \"https://cdn.jsdelivr.net/npm//vega-lib?noext\",\n",
       "      \"vega-lite\": \"https://cdn.jsdelivr.net/npm//vega-lite@4.17.0?noext\",\n",
       "      \"vega-embed\": \"https://cdn.jsdelivr.net/npm//vega-embed@6?noext\",\n",
       "    };\n",
       "\n",
       "    function maybeLoadScript(lib, version) {\n",
       "      var key = `${lib.replace(\"-\", \"\")}_version`;\n",
       "      return (VEGA_DEBUG[key] == version) ?\n",
       "        Promise.resolve(paths[lib]) :\n",
       "        new Promise(function(resolve, reject) {\n",
       "          var s = document.createElement('script');\n",
       "          document.getElementsByTagName(\"head\")[0].appendChild(s);\n",
       "          s.async = true;\n",
       "          s.onload = () => {\n",
       "            VEGA_DEBUG[key] = version;\n",
       "            return resolve(paths[lib]);\n",
       "          };\n",
       "          s.onerror = () => reject(`Error loading script: ${paths[lib]}`);\n",
       "          s.src = paths[lib];\n",
       "        });\n",
       "    }\n",
       "\n",
       "    function showError(err) {\n",
       "      outputDiv.innerHTML = `<div class=\"error\" style=\"color:red;\">${err}</div>`;\n",
       "      throw err;\n",
       "    }\n",
       "\n",
       "    function displayChart(vegaEmbed) {\n",
       "      vegaEmbed(outputDiv, spec, embedOpt)\n",
       "        .catch(err => showError(`Javascript Error: ${err.message}<br>This usually means there's a typo in your chart specification. See the javascript console for the full traceback.`));\n",
       "    }\n",
       "\n",
       "    if(typeof define === \"function\" && define.amd) {\n",
       "      requirejs.config({paths});\n",
       "      require([\"vega-embed\"], displayChart, err => showError(`Error loading script: ${err.message}`));\n",
       "    } else {\n",
       "      maybeLoadScript(\"vega\", \"5\")\n",
       "        .then(() => maybeLoadScript(\"vega-lite\", \"4.17.0\"))\n",
       "        .then(() => maybeLoadScript(\"vega-embed\", \"6\"))\n",
       "        .catch(showError)\n",
       "        .then(() => displayChart(vegaEmbed));\n",
       "    }\n",
       "  })({\"config\": {\"view\": {\"continuousWidth\": 400, \"continuousHeight\": 300}}, \"data\": {\"name\": \"data-c05f8287b500d311ec5116186425ce6c\"}, \"mark\": \"bar\", \"encoding\": {\"opacity\": {\"condition\": {\"value\": 1, \"selection\": \"selector001\"}, \"value\": 0.2}, \"tooltip\": [{\"field\": \"Comic\", \"type\": \"nominal\"}, {\"field\": \"Total Issues\", \"type\": \"quantitative\"}], \"x\": {\"field\": \"Total Issues\", \"type\": \"quantitative\"}, \"y\": {\"field\": \"Comic\", \"sort\": \"-x\", \"type\": \"nominal\"}}, \"height\": 500, \"selection\": {\"selector001\": {\"type\": \"single\"}}, \"title\": \"Top 20 Longest Running Marvel Comics (By Issue Count)\", \"width\": 1000, \"$schema\": \"https://vega.github.io/schema/vega-lite/v4.17.0.json\", \"datasets\": {\"data-c05f8287b500d311ec5116186425ce6c\": [{\"Comic\": \"Uncanny X-Men (1981 - 2011)\", \"Total Issues\": 588}, {\"Comic\": \"The Amazing Spider-Man (1963 - 1998)\", \"Total Issues\": 463}, {\"Comic\": \"Fantastic Four (1961 - 1998)\", \"Total Issues\": 447}, {\"Comic\": \"Avengers (1963 - 1996)\", \"Total Issues\": 431}, {\"Comic\": \"Incredible Hulk (1962 - 1999)\", \"Total Issues\": 400}, {\"Comic\": \"Thor (1966 - 1996)\", \"Total Issues\": 397}, {\"Comic\": \"Daredevil (1964 - 1998)\", \"Total Issues\": 393}, {\"Comic\": \"Captain America (1968 - 1996)\", \"Total Issues\": 369}, {\"Comic\": \"Iron Man (1968 - 1996)\", \"Total Issues\": 349}, {\"Comic\": \"Amazing Spider-Man (1999 - 2013)\", \"Total Issues\": 277}, {\"Comic\": \"Peter Parker, the Spectacular Spider-Man (1976 - 1998)\", \"Total Issues\": 271}, {\"Comic\": \"Millie the Model (1945 - 1965)\", \"Total Issues\": 207}, {\"Comic\": \"Wolverine (1988 - 2003)\", \"Total Issues\": 204}, {\"Comic\": \"Strange Tales (1951 - 1968)\", \"Total Issues\": 194}, {\"Comic\": \"Fantastic Four (1998 - 2012)\", \"Total Issues\": 186}, {\"Comic\": \"Marvel Comics Presents (1988 - 1995)\", \"Total Issues\": 183}, {\"Comic\": \"Ultimate Spider-Man (2000 - 2009)\", \"Total Issues\": 158}, {\"Comic\": \"Defenders (1972 - 1986)\", \"Total Issues\": 155}, {\"Comic\": \"X-Factor (1986 - 1998)\", \"Total Issues\": 155}, {\"Comic\": \"Marvel Team-Up (1972 - 1985)\", \"Total Issues\": 154}]}}, {\"mode\": \"vega-lite\"});\n",
       "</script>"
      ],
      "text/plain": [
       "alt.Chart(...)"
      ]
     },
     "execution_count": 4,
     "metadata": {},
     "output_type": "execute_result"
    }
   ],
   "source": [
    "comics = pd.DataFrame(df['comic_name'].value_counts().head(20))\n",
    "comics.reset_index(inplace=True)\n",
    "comics.columns = ['Comic', 'Total Issues']\n",
    "\n",
    "alt.Chart(comics).mark_bar().encode(\n",
    "    alt.X('Total Issues'),\n",
    "    alt.Y('Comic', sort='-x'),\n",
    "    tooltip = ['Comic','Total Issues'],\n",
    "    opacity=alt.condition(selection,alt.value(1),alt.value(.2))\n",
    ").properties(\n",
    "    title='Top 20 Longest Running Marvel Comics (By Issue Count)',\n",
    "    width=1000,\n",
    "    height=500\n",
    ").add_selection(selection)"
   ]
  },
  {
   "cell_type": "code",
   "execution_count": 5,
   "id": "fea55de1",
   "metadata": {
    "execution": {
     "iopub.execute_input": "2022-12-05T02:54:52.656851Z",
     "iopub.status.busy": "2022-12-05T02:54:52.656518Z",
     "iopub.status.idle": "2022-12-05T02:54:52.925643Z",
     "shell.execute_reply": "2022-12-05T02:54:52.924325Z"
    },
    "papermill": {
     "duration": 0.275811,
     "end_time": "2022-12-05T02:54:52.928007",
     "exception": false,
     "start_time": "2022-12-05T02:54:52.652196",
     "status": "completed"
    },
    "tags": []
   },
   "outputs": [],
   "source": [
    "new_df = df\n",
    "new_df['year'] = pd.to_datetime(df['publish_date']).dt.strftime('%Y')\n",
    "\n",
    "dates = pd.DataFrame(new_df['year'].value_counts())\n",
    "dates.reset_index(inplace=True)\n",
    "dates.columns = ['Year', 'Total Issues']\n",
    "dates['Year'] = pd.to_datetime(dates['Year'], format='%Y')\n",
    "dates = dates[dates['Year'] < pd.to_datetime(2023, format='%Y')]"
   ]
  },
  {
   "cell_type": "code",
   "execution_count": 6,
   "id": "93dff560",
   "metadata": {
    "execution": {
     "iopub.execute_input": "2022-12-05T02:54:52.935242Z",
     "iopub.status.busy": "2022-12-05T02:54:52.934882Z",
     "iopub.status.idle": "2022-12-05T02:54:53.094745Z",
     "shell.execute_reply": "2022-12-05T02:54:53.093239Z"
    },
    "papermill": {
     "duration": 0.16612,
     "end_time": "2022-12-05T02:54:53.096950",
     "exception": false,
     "start_time": "2022-12-05T02:54:52.930830",
     "status": "completed"
    },
    "tags": []
   },
   "outputs": [
    {
     "data": {
      "text/html": [
       "\n",
       "<div id=\"altair-viz-b3d10d6539b54537a27e1e500c0323a1\"></div>\n",
       "<script type=\"text/javascript\">\n",
       "  var VEGA_DEBUG = (typeof VEGA_DEBUG == \"undefined\") ? {} : VEGA_DEBUG;\n",
       "  (function(spec, embedOpt){\n",
       "    let outputDiv = document.currentScript.previousElementSibling;\n",
       "    if (outputDiv.id !== \"altair-viz-b3d10d6539b54537a27e1e500c0323a1\") {\n",
       "      outputDiv = document.getElementById(\"altair-viz-b3d10d6539b54537a27e1e500c0323a1\");\n",
       "    }\n",
       "    const paths = {\n",
       "      \"vega\": \"https://cdn.jsdelivr.net/npm//vega@5?noext\",\n",
       "      \"vega-lib\": \"https://cdn.jsdelivr.net/npm//vega-lib?noext\",\n",
       "      \"vega-lite\": \"https://cdn.jsdelivr.net/npm//vega-lite@4.17.0?noext\",\n",
       "      \"vega-embed\": \"https://cdn.jsdelivr.net/npm//vega-embed@6?noext\",\n",
       "    };\n",
       "\n",
       "    function maybeLoadScript(lib, version) {\n",
       "      var key = `${lib.replace(\"-\", \"\")}_version`;\n",
       "      return (VEGA_DEBUG[key] == version) ?\n",
       "        Promise.resolve(paths[lib]) :\n",
       "        new Promise(function(resolve, reject) {\n",
       "          var s = document.createElement('script');\n",
       "          document.getElementsByTagName(\"head\")[0].appendChild(s);\n",
       "          s.async = true;\n",
       "          s.onload = () => {\n",
       "            VEGA_DEBUG[key] = version;\n",
       "            return resolve(paths[lib]);\n",
       "          };\n",
       "          s.onerror = () => reject(`Error loading script: ${paths[lib]}`);\n",
       "          s.src = paths[lib];\n",
       "        });\n",
       "    }\n",
       "\n",
       "    function showError(err) {\n",
       "      outputDiv.innerHTML = `<div class=\"error\" style=\"color:red;\">${err}</div>`;\n",
       "      throw err;\n",
       "    }\n",
       "\n",
       "    function displayChart(vegaEmbed) {\n",
       "      vegaEmbed(outputDiv, spec, embedOpt)\n",
       "        .catch(err => showError(`Javascript Error: ${err.message}<br>This usually means there's a typo in your chart specification. See the javascript console for the full traceback.`));\n",
       "    }\n",
       "\n",
       "    if(typeof define === \"function\" && define.amd) {\n",
       "      requirejs.config({paths});\n",
       "      require([\"vega-embed\"], displayChart, err => showError(`Error loading script: ${err.message}`));\n",
       "    } else {\n",
       "      maybeLoadScript(\"vega\", \"5\")\n",
       "        .then(() => maybeLoadScript(\"vega-lite\", \"4.17.0\"))\n",
       "        .then(() => maybeLoadScript(\"vega-embed\", \"6\"))\n",
       "        .catch(showError)\n",
       "        .then(() => displayChart(vegaEmbed));\n",
       "    }\n",
       "  })({\"config\": {\"view\": {\"continuousWidth\": 400, \"continuousHeight\": 300}}, \"layer\": [{\"mark\": \"line\", \"encoding\": {\"x\": {\"field\": \"Year\", \"type\": \"temporal\"}, \"y\": {\"field\": \"Total Issues\", \"type\": \"quantitative\"}}}, {\"mark\": \"point\", \"encoding\": {\"opacity\": {\"value\": 0}, \"x\": {\"field\": \"Year\", \"type\": \"temporal\"}}, \"selection\": {\"selector002\": {\"type\": \"single\", \"nearest\": true, \"on\": \"mouseover\", \"fields\": [\"Year\"], \"empty\": \"none\"}}}, {\"mark\": \"point\", \"encoding\": {\"opacity\": {\"condition\": {\"value\": 1, \"selection\": \"selector002\"}, \"value\": 0}, \"x\": {\"field\": \"Year\", \"type\": \"temporal\"}, \"y\": {\"field\": \"Total Issues\", \"type\": \"quantitative\"}}}, {\"mark\": {\"type\": \"rule\", \"color\": \"gray\"}, \"encoding\": {\"x\": {\"field\": \"Year\", \"type\": \"temporal\"}}, \"transform\": [{\"filter\": {\"selection\": \"selector002\"}}]}, {\"mark\": {\"type\": \"text\", \"align\": \"left\", \"dx\": 5, \"dy\": -5}, \"encoding\": {\"text\": {\"condition\": {\"field\": \"Total Issues\", \"type\": \"quantitative\", \"selection\": \"selector002\"}, \"value\": \" \"}, \"x\": {\"field\": \"Year\", \"type\": \"temporal\"}, \"y\": {\"field\": \"Total Issues\", \"type\": \"quantitative\"}}}], \"data\": {\"name\": \"data-12a3812378e04937f1f047b521e9b3f8\"}, \"height\": 500, \"title\": \"Number of Issues Released Per Year (1939-2022)\", \"width\": 1000, \"$schema\": \"https://vega.github.io/schema/vega-lite/v4.17.0.json\", \"datasets\": {\"data-12a3812378e04937f1f047b521e9b3f8\": [{\"Year\": \"2008-01-01T00:00:00\", \"Total Issues\": 1379}, {\"Year\": \"2007-01-01T00:00:00\", \"Total Issues\": 1329}, {\"Year\": \"2010-01-01T00:00:00\", \"Total Issues\": 1257}, {\"Year\": \"2009-01-01T00:00:00\", \"Total Issues\": 1253}, {\"Year\": \"2011-01-01T00:00:00\", \"Total Issues\": 1228}, {\"Year\": \"2006-01-01T00:00:00\", \"Total Issues\": 1211}, {\"Year\": \"2016-01-01T00:00:00\", \"Total Issues\": 1175}, {\"Year\": \"2017-01-01T00:00:00\", \"Total Issues\": 1142}, {\"Year\": \"2005-01-01T00:00:00\", \"Total Issues\": 1142}, {\"Year\": \"2018-01-01T00:00:00\", \"Total Issues\": 1049}, {\"Year\": \"2001-01-01T00:00:00\", \"Total Issues\": 1024}, {\"Year\": \"2014-01-01T00:00:00\", \"Total Issues\": 974}, {\"Year\": \"2015-01-01T00:00:00\", \"Total Issues\": 965}, {\"Year\": \"2012-01-01T00:00:00\", \"Total Issues\": 963}, {\"Year\": \"2013-01-01T00:00:00\", \"Total Issues\": 952}, {\"Year\": \"2004-01-01T00:00:00\", \"Total Issues\": 945}, {\"Year\": \"2019-01-01T00:00:00\", \"Total Issues\": 938}, {\"Year\": \"2003-01-01T00:00:00\", \"Total Issues\": 766}, {\"Year\": \"2002-01-01T00:00:00\", \"Total Issues\": 614}, {\"Year\": \"1993-01-01T00:00:00\", \"Total Issues\": 572}, {\"Year\": \"1994-01-01T00:00:00\", \"Total Issues\": 531}, {\"Year\": \"1992-01-01T00:00:00\", \"Total Issues\": 529}, {\"Year\": \"1989-01-01T00:00:00\", \"Total Issues\": 498}, {\"Year\": \"1999-01-01T00:00:00\", \"Total Issues\": 491}, {\"Year\": \"1995-01-01T00:00:00\", \"Total Issues\": 491}, {\"Year\": \"1991-01-01T00:00:00\", \"Total Issues\": 485}, {\"Year\": \"1990-01-01T00:00:00\", \"Total Issues\": 467}, {\"Year\": \"2000-01-01T00:00:00\", \"Total Issues\": 465}, {\"Year\": \"1996-01-01T00:00:00\", \"Total Issues\": 457}, {\"Year\": \"1998-01-01T00:00:00\", \"Total Issues\": 430}, {\"Year\": \"1997-01-01T00:00:00\", \"Total Issues\": 430}, {\"Year\": \"1976-01-01T00:00:00\", \"Total Issues\": 417}, {\"Year\": \"1977-01-01T00:00:00\", \"Total Issues\": 409}, {\"Year\": \"2020-01-01T00:00:00\", \"Total Issues\": 390}, {\"Year\": \"1975-01-01T00:00:00\", \"Total Issues\": 366}, {\"Year\": \"1988-01-01T00:00:00\", \"Total Issues\": 365}, {\"Year\": \"1987-01-01T00:00:00\", \"Total Issues\": 346}, {\"Year\": \"1978-01-01T00:00:00\", \"Total Issues\": 345}, {\"Year\": \"1986-01-01T00:00:00\", \"Total Issues\": 328}, {\"Year\": \"1974-01-01T00:00:00\", \"Total Issues\": 328}, {\"Year\": \"1985-01-01T00:00:00\", \"Total Issues\": 328}, {\"Year\": \"1981-01-01T00:00:00\", \"Total Issues\": 321}, {\"Year\": \"1980-01-01T00:00:00\", \"Total Issues\": 308}, {\"Year\": \"1982-01-01T00:00:00\", \"Total Issues\": 306}, {\"Year\": \"1979-01-01T00:00:00\", \"Total Issues\": 301}, {\"Year\": \"1973-01-01T00:00:00\", \"Total Issues\": 300}, {\"Year\": \"1983-01-01T00:00:00\", \"Total Issues\": 289}, {\"Year\": \"1984-01-01T00:00:00\", \"Total Issues\": 276}, {\"Year\": \"2021-01-01T00:00:00\", \"Total Issues\": 234}, {\"Year\": \"1972-01-01T00:00:00\", \"Total Issues\": 222}, {\"Year\": \"1969-01-01T00:00:00\", \"Total Issues\": 191}, {\"Year\": \"1971-01-01T00:00:00\", \"Total Issues\": 184}, {\"Year\": \"1968-01-01T00:00:00\", \"Total Issues\": 183}, {\"Year\": \"1970-01-01T00:00:00\", \"Total Issues\": 171}, {\"Year\": \"1967-01-01T00:00:00\", \"Total Issues\": 145}, {\"Year\": \"1966-01-01T00:00:00\", \"Total Issues\": 137}, {\"Year\": \"1965-01-01T00:00:00\", \"Total Issues\": 130}, {\"Year\": \"1964-01-01T00:00:00\", \"Total Issues\": 121}, {\"Year\": \"1963-01-01T00:00:00\", \"Total Issues\": 101}, {\"Year\": \"1962-01-01T00:00:00\", \"Total Issues\": 76}, {\"Year\": \"1961-01-01T00:00:00\", \"Total Issues\": 66}, {\"Year\": \"1954-01-01T00:00:00\", \"Total Issues\": 56}, {\"Year\": \"1953-01-01T00:00:00\", \"Total Issues\": 48}, {\"Year\": \"1956-01-01T00:00:00\", \"Total Issues\": 41}, {\"Year\": \"1960-01-01T00:00:00\", \"Total Issues\": 39}, {\"Year\": \"1943-01-01T00:00:00\", \"Total Issues\": 39}, {\"Year\": \"1942-01-01T00:00:00\", \"Total Issues\": 39}, {\"Year\": \"1941-01-01T00:00:00\", \"Total Issues\": 36}, {\"Year\": \"1959-01-01T00:00:00\", \"Total Issues\": 34}, {\"Year\": \"1944-01-01T00:00:00\", \"Total Issues\": 32}, {\"Year\": \"1955-01-01T00:00:00\", \"Total Issues\": 29}, {\"Year\": \"1948-01-01T00:00:00\", \"Total Issues\": 26}, {\"Year\": \"1952-01-01T00:00:00\", \"Total Issues\": 25}, {\"Year\": \"1945-01-01T00:00:00\", \"Total Issues\": 25}, {\"Year\": \"1946-01-01T00:00:00\", \"Total Issues\": 24}, {\"Year\": \"1940-01-01T00:00:00\", \"Total Issues\": 24}, {\"Year\": \"1957-01-01T00:00:00\", \"Total Issues\": 23}, {\"Year\": \"1949-01-01T00:00:00\", \"Total Issues\": 19}, {\"Year\": \"1947-01-01T00:00:00\", \"Total Issues\": 14}, {\"Year\": \"1958-01-01T00:00:00\", \"Total Issues\": 14}, {\"Year\": \"1951-01-01T00:00:00\", \"Total Issues\": 11}, {\"Year\": \"1950-01-01T00:00:00\", \"Total Issues\": 5}, {\"Year\": \"1939-01-01T00:00:00\", \"Total Issues\": 2}]}}, {\"mode\": \"vega-lite\"});\n",
       "</script>"
      ],
      "text/plain": [
       "alt.LayerChart(...)"
      ]
     },
     "execution_count": 6,
     "metadata": {},
     "output_type": "execute_result"
    }
   ],
   "source": [
    "nearest = alt.selection(type='single', nearest=True, on='mouseover', fields=['Year'], empty='none')\n",
    "\n",
    "line = alt.Chart(dates).mark_line().encode(\n",
    "    alt.X('Year:T'),\n",
    "    alt.Y('Total Issues:Q')\n",
    ")\n",
    "\n",
    "selectors = alt.Chart(dates).mark_point().encode(\n",
    "    x='Year:T',\n",
    "    opacity=alt.value(0),\n",
    ").add_selection(\n",
    "    nearest\n",
    ")\n",
    "\n",
    "points = line.mark_point().encode(\n",
    "    opacity=alt.condition(nearest, alt.value(1), alt.value(0))\n",
    ")\n",
    "\n",
    "text = line.mark_text(align='left', dx=5, dy=-5).encode(\n",
    "    text=alt.condition(nearest, 'Total Issues:Q', alt.value(' '))\n",
    ")\n",
    "\n",
    "rules = alt.Chart(dates).mark_rule(color='gray').encode(\n",
    "    x='Year:T'\n",
    ").transform_filter(\n",
    "    nearest\n",
    ")\n",
    "\n",
    "alt.layer(\n",
    "    line, selectors, points, rules, text\n",
    ").properties(\n",
    "    title='Number of Issues Released Per Year (1939-2022)',\n",
    "    width=1000,\n",
    "    height=500\n",
    ")"
   ]
  }
 ],
 "metadata": {
  "kernelspec": {
   "display_name": "Python 3",
   "language": "python",
   "name": "python3"
  },
  "language_info": {
   "codemirror_mode": {
    "name": "ipython",
    "version": 3
   },
   "file_extension": ".py",
   "mimetype": "text/x-python",
   "name": "python",
   "nbconvert_exporter": "python",
   "pygments_lexer": "ipython3",
   "version": "3.7.12"
  },
  "papermill": {
   "default_parameters": {},
   "duration": 12.359169,
   "end_time": "2022-12-05T02:54:53.719614",
   "environment_variables": {},
   "exception": null,
   "input_path": "__notebook__.ipynb",
   "output_path": "__notebook__.ipynb",
   "parameters": {},
   "start_time": "2022-12-05T02:54:41.360445",
   "version": "2.3.4"
  }
 },
 "nbformat": 4,
 "nbformat_minor": 5
}
